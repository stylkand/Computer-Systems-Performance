{
 "cells": [
  {
   "cell_type": "markdown",
   "metadata": {},
   "source": [
    "# Επίδοση Υπολογιστικών Συστημάτων\n",
    "## Θέμα 2\n",
    "\n",
    "Στυλιανός Κανδυλάκης, 03117088\n",
    "\n",
    "Χαρίτων Χαριτωνίδης, 03116694"
   ]
  },
  {
   "cell_type": "code",
   "execution_count": 1,
   "metadata": {},
   "outputs": [],
   "source": [
    "import numpy as np\n",
    "import random\n",
    "from tqdm import tqdm\n",
    "import matplotlib.pyplot as plt\n",
    "plt.rcParams[\"figure.figsize\"] = (20,5)"
   ]
  },
  {
   "cell_type": "markdown",
   "metadata": {},
   "source": [
    "Εισάγουμε τα δεδομένα της εκφώνησης"
   ]
  },
  {
   "cell_type": "code",
   "execution_count": 2,
   "metadata": {},
   "outputs": [],
   "source": [
    "categories = ('A', 'B')\n",
    "\n",
    "# cpu arrival rates (jobs / sec)\n",
    "cpu_arrival_rate = {\n",
    "    'A': 0.9,\n",
    "    'B': 1.2\n",
    "}\n",
    "\n",
    "# average service times (sec)\n",
    "cpu_average_service_time = {\n",
    "    'A': 31e-3,\n",
    "    'B': 42e-3\n",
    "}\n",
    "\n",
    "disk_average_service_time = {\n",
    "    'A': 26e-3,\n",
    "    'B': 29e-3\n",
    "}\n",
    "\n",
    "# average disk visits\n",
    "average_disk_visits = {\n",
    "    'A': 10,\n",
    "    'B': 8\n",
    "}"
   ]
  },
  {
   "cell_type": "markdown",
   "metadata": {},
   "source": [
    "Το `disk_arrival_rate` είναι ο ρυθμός με τον οποίο μια εργασία μεταβαίνει από τη CPU στο δίσκο"
   ]
  },
  {
   "cell_type": "code",
   "execution_count": 3,
   "metadata": {},
   "outputs": [],
   "source": [
    "# disk arrival rates (jobs / sec)\n",
    "disk_arrival_rate = {cat: average_disk_visits[cat] / cpu_average_service_time[cat] for cat in categories}"
   ]
  },
  {
   "cell_type": "markdown",
   "metadata": {},
   "source": [
    "Ορίζουμε την κλάση Job για να διευκολύνουμε την προσομοίωση"
   ]
  },
  {
   "cell_type": "code",
   "execution_count": 4,
   "metadata": {},
   "outputs": [],
   "source": [
    "class Job:\n",
    "    def __init__(self, category, time):\n",
    "        self.category = category\n",
    "        self.start_time = time\n",
    "        self.end_time = None\n",
    "        self.disk_visits = 0\n",
    "        \n",
    "        if category == 'A':\n",
    "            self.remaining_time = np.random.exponential(scale=cpu_average_service_time['A'])\n",
    "        elif category == 'B':\n",
    "            self.remaining_time = np.random.exponential(scale=cpu_average_service_time['B'])\n",
    "        self.disk_remaining_time = None\n",
    "            \n",
    "    def move_to_disk(self):\n",
    "        self.disk_visits += 1\n",
    "        self.disk_remaining_time = np.random.exponential(scale=disk_average_service_time[self.category])"
   ]
  },
  {
   "cell_type": "markdown",
   "metadata": {},
   "source": [
    "Η παρακάτω συναρτηση εισάγει μια εργασία σε μία ουρά στην οποία εφαρμόζεται ο κανόνας preemptive priority που περιγράφεται στην εκφώνηση. Δηλαδή όταν έρχεται εργασία κατηγορίας Α προσπερνά τις εργασίες κατηγορίας Β, ακόμα κι αν μια εργασία κατηγορίας Β είναι υπό επεξεργασία."
   ]
  },
  {
   "cell_type": "code",
   "execution_count": 5,
   "metadata": {},
   "outputs": [],
   "source": [
    "def insert(job, queue):\n",
    "    if not queue:\n",
    "        queue = [job]\n",
    "        return queue\n",
    "    elif job.category == 'B':\n",
    "        queue.append(job)\n",
    "        return queue\n",
    "    elif job.category == 'A':\n",
    "        p = len(queue)\n",
    "        while queue[p-1].category == 'B' and p > 0:\n",
    "            p -= 1\n",
    "        queue.insert(p, job)\n",
    "        return queue"
   ]
  },
  {
   "cell_type": "markdown",
   "metadata": {},
   "source": [
    "Η προσομοίωση γίνεται ως εξής: Χωρίζουμε το χρόνο σε πολύ μικρά διαστήματα ώστε να έχουμε \n",
    "\n",
    "$$\n",
    "    P[\\text{άφιξης στο διάστημα } dt]  = \\text{ρυθμός αφίξεων} \\cdot dt\n",
    "$$\n",
    "\n",
    "Και έπειτα προχωράμε το χρόνο κατά dt σε κάθε επανάληψη της προσομοίωσης. Όταν έρχεται μια νέα εργασία, την προσθέτουμε στην ουρά της CPU με υπολειπόμενο χρόνο (πεδίο `remaining_time` στο `Job`) δείγμα από εκθετική κατανομή με μέσο όρο τον μέσο χρόνο ανά επίσκεψη στη cpu ανάλογα με την κατηγορία της εργασίας.\n",
    "\n",
    "Επίσης υπολογίζουμε την πιθανότητα στο διάστημα dt η εργασία να μεταβεί από τη CPU στο δίσκο \n",
    "\n",
    "$$\n",
    "    P[\\text{μετάβασης από τη CPU στο δίσκο στο διάστημα dt}] = \\frac{\\text{Μέσος αριθμός επισκέψεων στο δίσκο}}{\\text{Μέσος χρόνος εξυπηρέτησης στη CPU}} \\cdot \\text{dt}\n",
    "$$\n",
    "\n",
    "Αυτό ισχύει για αρκούντως μικρό $dt$\n",
    "\n",
    "Τα σημεία αναγεννησης είναι οι στιγμές που μια νέα εργασία \"βρίσκει\" το σύστημα (CPU και disk) άδειο."
   ]
  },
  {
   "cell_type": "code",
   "execution_count": 6,
   "metadata": {
    "scrolled": true
   },
   "outputs": [],
   "source": [
    "t = 0\n",
    "np.random.seed(42)\n",
    "random.seed(42)\n",
    "CPU_queue = []\n",
    "disk_queue = []\n",
    "completed_jobs = []\n",
    "cpu_history = []\n",
    "disk_history = []\n",
    "regeneration_points = []\n",
    "max_regeneration_cycles = 1000\n",
    "confidence_level = 0.95\n",
    "dt = 1e-3\n",
    "\n",
    "while len(regeneration_points) < max_regeneration_cycles:\n",
    "    if CPU_queue:\n",
    "        # if there are jobs in the cpu queue, process the one with the highest priority\n",
    "        CPU_queue[0].remaining_time -= dt\n",
    "        if CPU_queue[0].remaining_time <= 0:\n",
    "            # if it's done, keep it in the completed list and remove it from the queue\n",
    "            CPU_queue[0].end_time = t\n",
    "            completed_jobs.append(CPU_queue[0])\n",
    "            CPU_queue.pop(0)\n",
    "        elif random.random() < disk_arrival_rate[CPU_queue[0].category] * dt:\n",
    "            # jobs move to disk\n",
    "            CPU_queue[0].move_to_disk()\n",
    "            disk_queue.append(CPU_queue[0])\n",
    "            CPU_queue.pop(0)\n",
    "\n",
    "    # disk\n",
    "    if disk_queue:\n",
    "        # if the disk is not empty, process the job with the highest priority\n",
    "        disk_queue[0].disk_remaining_time -= dt\n",
    "        if disk_queue[0].disk_remaining_time <= 0:\n",
    "            # if the job with the highest priority is done move it back to the cpu\n",
    "            CPU_queue = insert(disk_queue[0], CPU_queue)\n",
    "            disk_queue.pop(0)\n",
    "    \n",
    "    # new arrivals\n",
    "    if random.random() < cpu_arrival_rate['A'] * dt:\n",
    "        if CPU_queue == [] and disk_queue == []:\n",
    "            regeneration_points.append(t)\n",
    "        CPU_queue = insert(Job(category='A', time=t), CPU_queue)\n",
    "    if random.random() < cpu_arrival_rate['B'] * dt:\n",
    "        if CPU_queue == [] and disk_queue == []:\n",
    "            regeneration_points.append(t)\n",
    "        CPU_queue = insert(Job(category='B', time=t), CPU_queue)\n",
    "    \n",
    "    if len(regeneration_points) % 20 == 0 and len(regeneration_points) > 0:\n",
    "        response_times_B = [job.end_time - job.start_time for job in completed_jobs if job.category == 'B']\n",
    "        # ci = confidence interval length\n",
    "        ci = 2 * confidence_level * np.std(response_times_B) / np.sqrt(len(response_times_B))\n",
    "        if ci < 0.1 * np.mean(response_times_B):\n",
    "            break\n",
    "    \n",
    "    cpu_history.append(len(CPU_queue))\n",
    "    disk_history.append(len(disk_queue))\n",
    "    t += dt"
   ]
  },
  {
   "cell_type": "markdown",
   "metadata": {},
   "source": [
    "## Αποτελέσματα προσομοίωσης"
   ]
  },
  {
   "cell_type": "code",
   "execution_count": 7,
   "metadata": {},
   "outputs": [
    {
     "name": "stdout",
     "output_type": "stream",
     "text": [
      "Average response time: 0.5490286069576695\n",
      "Average response time for category A: 0.5930384047184346\n",
      "Average response time for category B: 0.51702577872562\n",
      "=============================================\n",
      "Number of completed jobs: 1608\n",
      "Number of category A completed jobs 677\n",
      "Number of category A completed jobs 931\n",
      "=============================================\n",
      "CPU Utilization = 0.08049634803555711\n",
      "Disk Utilization = 0.506423751409056\n",
      "=============================================\n",
      "Total regeneration cycles: 780\n"
     ]
    }
   ],
   "source": [
    "response_times = [job.end_time - job.start_time for job in completed_jobs]\n",
    "print('Average response time:', sum(response_times) / len(response_times))\n",
    "response_times_A = [job.end_time - job.start_time for job in completed_jobs if job.category=='A']\n",
    "print('Average response time for category A:', sum(response_times_A) / len(response_times_A))\n",
    "response_times_B = [job.end_time - job.start_time for job in completed_jobs if job.category=='B']\n",
    "print('Average response time for category B:', sum(response_times_B) / len(response_times_B))\n",
    "print('=============================================')\n",
    "print('Number of completed jobs:', len(completed_jobs))\n",
    "print('Number of category A completed jobs', len(list(filter(lambda job: job.category == 'A', completed_jobs))))\n",
    "print('Number of category A completed jobs', len(list(filter(lambda job: job.category == 'B', completed_jobs))))\n",
    "print('=============================================')\n",
    "print('CPU Utilization =', len(list(filter(lambda x: x != 0, cpu_history))) / len(cpu_history))\n",
    "print('Disk Utilization =', len(list(filter(lambda x: x != 0, disk_history))) / len(disk_history))\n",
    "print('=============================================')\n",
    "print('Total regeneration cycles:', len(regeneration_points))"
   ]
  },
  {
   "cell_type": "code",
   "execution_count": 8,
   "metadata": {},
   "outputs": [
    {
     "data": {
      "image/png": "[encoded data removed]",
      "text/plain": [
       "<Figure size 1440x360 with 1 Axes>"
      ]
     },
     "metadata": {
      "needs_background": "light"
     },
     "output_type": "display_data"
    },
    {
     "data": {
      "image/png": "[encoded data removed]",
      "text/plain": [
       "<Figure size 1440x360 with 1 Axes>"
      ]
     },
     "metadata": {
      "needs_background": "light"
     },
     "output_type": "display_data"
    }
   ],
   "source": [
    "plt.plot(cpu_history)\n",
    "plt.xlabel('Χρόνος (msec)')\n",
    "plt.ylabel('Αριθμός εργασιών στην ουρά της CPU')\n",
    "plt.show()\n",
    "\n",
    "plt.plot(disk_history)\n",
    "plt.xlabel('Χρόνος (msec)')\n",
    "plt.ylabel('Αριθμός εργασιών στην ουρά του δίσκου')\n",
    "plt.show()"
   ]
  },
  {
   "cell_type": "markdown",
   "metadata": {},
   "source": [
    "# Σχολιασμός αποτελεσμάτων\n",
    "\n",
    "## Utilization\n",
    "\n",
    "\n",
    "Όπως αναμένουμε έχουμε πολύ μεγαλύτερο utilization στο δίσκο σε σχέση με τη CPU. Αυτό είναι αναμενόμενο, αφού η επεξεργασία μιας εργασίας στη CPU διαρκεί 31 msec (42 msec) για την κατηγορία Α (αντίστοιχα για την κατηγορία Β), ενώ στο δίσκο κάθε εργασία κάνει 10 (8) επισκέψεις των 26 msec (29 msec αντίστοιχα). Θεωρητικά έχουμε \n",
    "\n",
    "$$\n",
    "    U_{CPU} = U_{CPU_A} + U_{CPU_B} = \\lambda_A \\cdot S_A + \\lambda_B \\cdot S_B = \n",
    "    0.9 \\cdot 1 \\cdot 0.031 + 1.2  \\cdot 0.042 = 0.0783\n",
    "$$\n",
    "\n",
    "$$\n",
    "    U_{disk} = U_{disk_A} + U_{disk_B} = \n",
    "    \\lambda_A \\cdot V_A \\cdot S_{A_{disk}} + \\lambda_B \\cdot V_B \\cdot S_{B_{disk}} = \n",
    "    0.9 \\cdot 10 \\cdot 0.026 + 1.2 \\cdot 8 \\cdot 0.031 =\n",
    "    0.5316\n",
    "$$\n",
    "\n",
    "\n",
    "Παρατηρούμε ότι τα αποτελέσματα της προσομοίωσης είναι πολύ κοντά στις θεωρητικές τιμές.\n",
    "\n",
    "## Μέσοι χρόνοι απόκρισης\n",
    "\n",
    "Ο μέσος χρόνος απόκρισης είναι $\\approx 0.59$ sec για την κατηγορία Α και $\\approx 0.52$ για την κατηγορία Β. Μια εργασία τύπου A σε άδειο σύστημα χρειάζεται κατά μέσο όρο 291 msec ($0.31 + 10 \\cdot 26$), ενώ μια εργασία κατηγορίας Β χρειάζεται κατά μέσο όρο 274 msec ($42 + 8 \\cdot 29$). Εδώ φαίνεται πως οι εργασίες της κατηγορίας Α έχουν πάρει περισσότερο χρόνο σε σχέση με τις εργασίες κατηγορίας B. Πιστεύουμε πως αυτό οφείλεται στο ότι δεν υπάρχει κανόνας προτεραιότητας στην ουρά του δίσκου, και καθώς οι περισσότερες εργασίες είναι της κατηγορίας Β και ο δίσκος είναι κατειλημένος το 50% του χρόνου, οι εργασίες της κατηγορίας Α \"κολλάνε\" στην ουρά του δίσκο πίσω από εργασίες κατηγορίας Β.\n",
    "\n",
    "Για να δοκιμάσουμε αν αυτό είναι όντως ο λόγος, μπορούμε να ξανατρέξουμε την προσομοίωση, αυτή τη φορά με κανόνα προτεραιότητας και στην ουρά του δίσκου (θα χρησιμοποιήσουμε τη συνάρτηση `insert()` που ορίσαμε παραπάνω αντί για `append()` στην ουρά του δίσκου.\n"
   ]
  },
  {
   "cell_type": "code",
   "execution_count": 9,
   "metadata": {},
   "outputs": [],
   "source": [
    "t = 0\n",
    "np.random.seed(42)\n",
    "random.seed(42)\n",
    "CPU_queue = []\n",
    "disk_queue = []\n",
    "completed_jobs = []\n",
    "cpu_history = []\n",
    "disk_history = []\n",
    "regeneration_points = []\n",
    "max_regeneration_cycles = 1000\n",
    "confidence_level = 0.95\n",
    "dt = 1e-3\n",
    "\n",
    "while len(regeneration_points) < max_regeneration_cycles:\n",
    "    if CPU_queue:\n",
    "        # if there are jobs in the cpu queue, process the one with the highest priority\n",
    "        CPU_queue[0].remaining_time -= dt\n",
    "        if CPU_queue[0].remaining_time <= 0:\n",
    "            # if it's done, keep it in the completed list and remove it from the queue\n",
    "            CPU_queue[0].end_time = t\n",
    "            completed_jobs.append(CPU_queue[0])\n",
    "            CPU_queue.pop(0)\n",
    "        elif random.random() < disk_arrival_rate[CPU_queue[0].category] * dt:\n",
    "            # jobs move to disk\n",
    "            CPU_queue[0].move_to_disk()\n",
    "            disk_queue = insert(CPU_queue[0], disk_queue)\n",
    "            CPU_queue.pop(0)\n",
    "\n",
    "    # disk\n",
    "    if disk_queue:\n",
    "        # if the disk is not empty, process the job with the highest priority\n",
    "        disk_queue[0].disk_remaining_time -= dt\n",
    "        if disk_queue[0].disk_remaining_time <= 0:\n",
    "            # if the job with the highest priority is done move it back to the cpu\n",
    "            CPU_queue = insert(disk_queue[0], CPU_queue)\n",
    "            disk_queue.pop(0)\n",
    "    \n",
    "    # new arrivals\n",
    "    if random.random() < cpu_arrival_rate['A'] * dt:\n",
    "        if CPU_queue == [] and disk_queue == []:\n",
    "            regeneration_points.append(t)\n",
    "        CPU_queue = insert(Job(category='A', time=t), CPU_queue)\n",
    "    if random.random() < cpu_arrival_rate['B'] * dt:\n",
    "        if CPU_queue == [] and disk_queue == []:\n",
    "            regeneration_points.append(t)\n",
    "        CPU_queue = insert(Job(category='B', time=t), CPU_queue)\n",
    "    \n",
    "    if len(regeneration_points) % 20 == 0 and len(regeneration_points) > 0:\n",
    "        response_times_B = [job.end_time - job.start_time for job in completed_jobs if job.category == 'B']\n",
    "        # ci = confidence interval length\n",
    "        ci = 2 * confidence_level * np.std(response_times_B) / np.sqrt(len(response_times_B))\n",
    "        if ci < 0.1 * np.mean(response_times_B):\n",
    "            break\n",
    "    \n",
    "    cpu_history.append(len(CPU_queue))\n",
    "    disk_history.append(len(disk_queue))\n",
    "    t += dt"
   ]
  },
  {
   "cell_type": "markdown",
   "metadata": {},
   "source": [
    "## Αποτελέσματα προσομοίωσης με preemptive priority της κατηγορίας Α και στο δίσκο"
   ]
  },
  {
   "cell_type": "code",
   "execution_count": 10,
   "metadata": {},
   "outputs": [
    {
     "name": "stdout",
     "output_type": "stream",
     "text": [
      "Average response time: 0.498332082545462\n",
      "Average response time for category A: 0.3340336322832436\n",
      "Average response time for category B: 0.6165209677340903\n",
      "=============================================\n",
      "Number of completed jobs: 1066\n",
      "Number of category A completed jobs 446\n",
      "Number of category A completed jobs 620\n",
      "=============================================\n",
      "CPU Utilization = 0.07923436063099813\n",
      "Disk Utilization = 0.4863256227058722\n",
      "=============================================\n",
      "Total regeneration cycles: 500\n"
     ]
    }
   ],
   "source": [
    "response_times = [job.end_time - job.start_time for job in completed_jobs]\n",
    "print('Average response time:', sum(response_times) / len(response_times))\n",
    "response_times_A = [job.end_time - job.start_time for job in completed_jobs if job.category=='A']\n",
    "print('Average response time for category A:', sum(response_times_A) / len(response_times_A))\n",
    "response_times_B = [job.end_time - job.start_time for job in completed_jobs if job.category=='B']\n",
    "print('Average response time for category B:', sum(response_times_B) / len(response_times_B))\n",
    "print('=============================================')\n",
    "print('Number of completed jobs:', len(completed_jobs))\n",
    "print('Number of category A completed jobs', len(list(filter(lambda job: job.category == 'A', completed_jobs))))\n",
    "print('Number of category A completed jobs', len(list(filter(lambda job: job.category == 'B', completed_jobs))))\n",
    "print('=============================================')\n",
    "print('CPU Utilization =', len(list(filter(lambda x: x != 0, cpu_history))) / len(cpu_history))\n",
    "print('Disk Utilization =', len(list(filter(lambda x: x != 0, disk_history))) / len(disk_history))\n",
    "print('=============================================')\n",
    "print('Total regeneration cycles:', len(regeneration_points))"
   ]
  },
  {
   "cell_type": "markdown",
   "metadata": {},
   "source": [
    "Βλέπουμε ξεκάθαρα ότι οι χρόνοι απόκρισης μειώθηκαν δραματικά όταν η κατηγορία Α έχει απόλυτη προτεραιότητα και στην ουρά του δίσκου. Επίσης χρειάστηκαν λιγότεροι αναγεννητικοί κύκλοι για να έχουμε σύκγλιση. Άρα όντως, αυτό που καθυστερούσε τις εργασίες της κατηγορίας Α ήταν η απουσία προτεραιότητας στην ουρά του δίσκου."
   ]
  }
 ],
 "metadata": {
  "kernelspec": {
   "display_name": "Python 3",
   "language": "python",
   "name": "python3"
  },
  "language_info": {
   "codemirror_mode": {
    "name": "ipython",
    "version": 3
   },
   "file_extension": ".py",
   "mimetype": "text/x-python",
   "name": "python",
   "nbconvert_exporter": "python",
   "pygments_lexer": "ipython3",
   "version": "3.9.1"
  }
 },
 "nbformat": 4,
 "nbformat_minor": 4
}
